{
  "nbformat": 4,
  "nbformat_minor": 0,
  "metadata": {
    "colab": {
      "provenance": [],
      "include_colab_link": true
    },
    "kernelspec": {
      "name": "python3",
      "display_name": "Python 3"
    },
    "language_info": {
      "name": "python"
    }
  },
  "cells": [
    {
      "cell_type": "markdown",
      "metadata": {
        "id": "view-in-github",
        "colab_type": "text"
      },
      "source": [
        "<a href=\"https://colab.research.google.com/github/Amitda-an/Python-With-ML/blob/main/Day1.ipynb\" target=\"_parent\"><img src=\"https://colab.research.google.com/assets/colab-badge.svg\" alt=\"Open In Colab\"/></a>"
      ]
    },
    {
      "cell_type": "markdown",
      "source": [
        "BASICS OF PYTHON\n"
      ],
      "metadata": {
        "id": "8q0J1wjWSfCs"
      }
    },
    {
      "cell_type": "code",
      "source": [],
      "metadata": {
        "id": "e6cEc4wxNHBW"
      },
      "execution_count": null,
      "outputs": []
    },
    {
      "cell_type": "code",
      "source": [],
      "metadata": {
        "id": "JmbZCGDKNYIq"
      },
      "execution_count": null,
      "outputs": []
    },
    {
      "cell_type": "markdown",
      "source": [],
      "metadata": {
        "id": "tz2mzGNGNYdg"
      }
    },
    {
      "cell_type": "code",
      "execution_count": null,
      "metadata": {
        "colab": {
          "base_uri": "https://localhost:8080/"
        },
        "id": "yDhckzQ7wHuO",
        "outputId": "2cb10b40-d77b-4b53-dc96-22fc5379756e"
      },
      "outputs": [
        {
          "output_type": "stream",
          "name": "stdout",
          "text": [
            "    *\n",
            "   **\n",
            "  ***\n",
            " ****\n",
            "*****\n",
            " ****\n",
            "  ***\n",
            "   **\n",
            "    *\n"
          ]
        }
      ],
      "source": [
        "for i in range(1,10):\n",
        "    if i<6:\n",
        "        print(\" \"*(5-i)+\"*\"*i)\n",
        "    else:\n",
        "            print(\" \"*(i-5)+\"*\"*(10-i))"
      ]
    },
    {
      "cell_type": "code",
      "source": [
        "a=\"12345\"\n",
        "for i in range(1,6):\n",
        "    print(\" \"*(5-i)+ a[:i])"
      ],
      "metadata": {
        "colab": {
          "base_uri": "https://localhost:8080/"
        },
        "id": "-KoH3sAMwvGh",
        "outputId": "01ea5a12-8753-4796-f7ac-25e9ad24a5e8"
      },
      "execution_count": null,
      "outputs": [
        {
          "output_type": "stream",
          "name": "stdout",
          "text": [
            "    1\n",
            "   12\n",
            "  123\n",
            " 1234\n",
            "12345\n"
          ]
        }
      ]
    },
    {
      "cell_type": "code",
      "source": [
        "n=1\n",
        "for i in range(1,6):\n",
        "  print(\" \"*(5-i),n*n)\n",
        "  n=n*10+1"
      ],
      "metadata": {
        "colab": {
          "base_uri": "https://localhost:8080/"
        },
        "id": "QGvVcPTazT3e",
        "outputId": "75d01b29-685d-4894-a2f4-628fbf2291fe"
      },
      "execution_count": null,
      "outputs": [
        {
          "output_type": "stream",
          "name": "stdout",
          "text": [
            "     1\n",
            "    121\n",
            "   12321\n",
            "  1234321\n",
            " 123454321\n"
          ]
        }
      ]
    },
    {
      "cell_type": "code",
      "source": [
        "def Sum(*t):\n",
        "  s=0\n",
        "  for i in t:\n",
        "    s=s+i\n",
        "  print(s)\n",
        "Sum(1,2,3,4)"
      ],
      "metadata": {
        "id": "3GZGuHag4BZw",
        "colab": {
          "base_uri": "https://localhost:8080/"
        },
        "outputId": "24027e9e-abc3-4126-a518-f88f18d504dc"
      },
      "execution_count": null,
      "outputs": [
        {
          "output_type": "stream",
          "name": "stdout",
          "text": [
            "10\n"
          ]
        }
      ]
    },
    {
      "cell_type": "code",
      "source": [],
      "metadata": {
        "id": "ogecG3Qbshv0"
      },
      "execution_count": null,
      "outputs": []
    },
    {
      "cell_type": "code",
      "source": [
        "def Sum(*t):\n",
        "  s=0\n",
        "  for i in t:\n",
        "    s=s+i\n",
        "  print(s)\n"
      ],
      "metadata": {
        "id": "eH8ZO2gXYQSR"
      },
      "execution_count": null,
      "outputs": []
    },
    {
      "cell_type": "code",
      "source": [
        "def oddeven(*t):\n",
        "  for i in t:\n",
        "    if i%2==0:\n",
        "      print(i,\"even\")\n",
        "    else:\n",
        "      print(i,\"odd\")\n",
        "oddeven(2,4,6,7,9,23)"
      ],
      "metadata": {
        "colab": {
          "base_uri": "https://localhost:8080/"
        },
        "id": "KVX2JrWVZdv6",
        "outputId": "407c4cd4-33a0-4381-dfde-7ae4931a5e37"
      },
      "execution_count": null,
      "outputs": [
        {
          "output_type": "stream",
          "name": "stdout",
          "text": [
            "2 even\n",
            "4 even\n",
            "6 even\n",
            "7 odd\n",
            "9 odd\n",
            "23 odd\n"
          ]
        }
      ]
    },
    {
      "cell_type": "code",
      "source": [
        "def countoddeven(*t):\n",
        "  even=0\n",
        "  odd=0\n",
        "  for i in t:\n",
        "    if i%2==0:\n",
        "      even+=1\n",
        "    else:\n",
        "      odd+=1\n",
        "  print(\"even \",even,\"odd \",odd)\n",
        "countoddeven(2,4,6,7,9,23)"
      ],
      "metadata": {
        "colab": {
          "base_uri": "https://localhost:8080/"
        },
        "id": "LBB2UApafeBv",
        "outputId": "5b92f4c4-7d74-42e9-bd70-8fcaa135b4fa"
      },
      "execution_count": null,
      "outputs": [
        {
          "output_type": "stream",
          "name": "stdout",
          "text": [
            "even  3 odd  3\n"
          ]
        }
      ]
    },
    {
      "cell_type": "code",
      "source": [
        "def fact(*t):\n",
        "  for i in t:\n",
        "    f=1\n",
        "    for j in range(1,i+1):\n",
        "      f=f*j\n",
        "    print(f)\n",
        "fact(1,2,3,4,5)"
      ],
      "metadata": {
        "colab": {
          "base_uri": "https://localhost:8080/"
        },
        "id": "EXvWHRAog2cM",
        "outputId": "8276c88d-9a0c-4b44-915f-d152ac2dc686"
      },
      "execution_count": null,
      "outputs": [
        {
          "output_type": "stream",
          "name": "stdout",
          "text": [
            "1\n",
            "2\n",
            "6\n",
            "24\n",
            "120\n"
          ]
        }
      ]
    },
    {
      "cell_type": "code",
      "source": [
        "t=()\n",
        "for i in range(5):\n",
        "  x=int(input())\n",
        "  t+=(x,)\n",
        "print(t)\n"
      ],
      "metadata": {
        "colab": {
          "base_uri": "https://localhost:8080/"
        },
        "id": "vLXnzxB6kbjQ",
        "outputId": "95f39003-6732-43e2-a0e9-9911a17c7f3f"
      },
      "execution_count": null,
      "outputs": [
        {
          "output_type": "stream",
          "name": "stdout",
          "text": [
            "12\n",
            "88\n",
            "6\n",
            "55\n",
            "34\n",
            "(12, 88, 6, 55, 34)\n"
          ]
        }
      ]
    },
    {
      "cell_type": "code",
      "source": [
        "combs=[]\n",
        "for x in [1,2,3]:\n",
        "  for y in [3,1,4]:\n",
        "    if x!=y:\n",
        "      combs.append((x,y))\n",
        "combs"
      ],
      "metadata": {
        "colab": {
          "base_uri": "https://localhost:8080/"
        },
        "id": "NruXjTrjnD6f",
        "outputId": "35a92328-5016-4441-bae9-eac1be07d64a"
      },
      "execution_count": null,
      "outputs": [
        {
          "output_type": "execute_result",
          "data": {
            "text/plain": [
              "[(1, 3), (1, 4), (2, 3), (2, 1), (2, 4), (3, 1), (3, 4)]"
            ]
          },
          "metadata": {},
          "execution_count": 31
        }
      ]
    },
    {
      "cell_type": "code",
      "source": [
        "x=[1,2,2,1,3,4,3,4,1,2]\n",
        "y=[]\n",
        "for i in x:\n",
        "  if i not in y:\n",
        "    y.append(i)\n",
        "print(y)"
      ],
      "metadata": {
        "colab": {
          "base_uri": "https://localhost:8080/"
        },
        "id": "Um1tpalot8Qm",
        "outputId": "7c35395a-2d79-4b55-d88b-f7c830cc8952"
      },
      "execution_count": null,
      "outputs": [
        {
          "output_type": "stream",
          "name": "stdout",
          "text": [
            "[1, 2, 3, 4]\n"
          ]
        }
      ]
    },
    {
      "cell_type": "code",
      "source": [
        "a=[0,1]\n",
        "[a.append(a[-1]+a[-2]) for i in range(8)]\n",
        "print(a)\n"
      ],
      "metadata": {
        "id": "r2wRUkO4wRaH",
        "colab": {
          "base_uri": "https://localhost:8080/"
        },
        "outputId": "ae1751e9-7418-4a19-904b-6f3c92157131"
      },
      "execution_count": null,
      "outputs": [
        {
          "output_type": "stream",
          "name": "stdout",
          "text": [
            "[0, 1, 1, 2, 3, 5, 8, 13, 21, 34]\n"
          ]
        }
      ]
    }
  ]
}