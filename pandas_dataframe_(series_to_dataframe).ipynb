{
  "cells": [
    {
      "cell_type": "code",
      "execution_count": null,
      "metadata": {
        "id": "yHtgbQly4azu"
      },
      "outputs": [],
      "source": [
        "#data frames"
      ]
    },
    {
      "cell_type": "code",
      "execution_count": null,
      "metadata": {
        "id": "c6aELTUU4azx"
      },
      "outputs": [],
      "source": [
        "import pandas as pd\n",
        "purchase_1 = pd.Series({'Name': 'Chris',\n",
        "                        'Item Purchased': 'Dog Food',\n",
        "                        'Cost': 22.50})\n",
        "purchase_2 = pd.Series({'Name': 'Kevyn',\n",
        "                        'Item Purchased': 'Kitty Litter',\n",
        "                        'Cost': 2.50})\n",
        "purchase_3 = pd.Series({'Name': 'Vinod',\n",
        "                        'Item Purchased': 'Bird Seed',\n",
        "                        'Cost': 5.00})\n",
        "\n",
        "df = pd.DataFrame([purchase_1, purchase_2, purchase_3], index=['Store 1', 'Store 1', 'Store 2'])"
      ]
    },
    {
      "cell_type": "code",
      "execution_count": null,
      "metadata": {
        "id": "wWzir6Tx4azx",
        "outputId": "be24ab8e-ffb9-47ec-86af-2548a14fb390"
      },
      "outputs": [
        {
          "data": {
            "text/html": [
              "<div>\n",
              "<style scoped>\n",
              "    .dataframe tbody tr th:only-of-type {\n",
              "        vertical-align: middle;\n",
              "    }\n",
              "\n",
              "    .dataframe tbody tr th {\n",
              "        vertical-align: top;\n",
              "    }\n",
              "\n",
              "    .dataframe thead th {\n",
              "        text-align: right;\n",
              "    }\n",
              "</style>\n",
              "<table border=\"1\" class=\"dataframe\">\n",
              "  <thead>\n",
              "    <tr style=\"text-align: right;\">\n",
              "      <th></th>\n",
              "      <th>Cost</th>\n",
              "      <th>Item Purchased</th>\n",
              "      <th>Name</th>\n",
              "    </tr>\n",
              "  </thead>\n",
              "  <tbody>\n",
              "    <tr>\n",
              "      <th>Store 1</th>\n",
              "      <td>22.5</td>\n",
              "      <td>Dog Food</td>\n",
              "      <td>Chris</td>\n",
              "    </tr>\n",
              "    <tr>\n",
              "      <th>Store 1</th>\n",
              "      <td>2.5</td>\n",
              "      <td>Kitty Litter</td>\n",
              "      <td>Kevyn</td>\n",
              "    </tr>\n",
              "    <tr>\n",
              "      <th>Store 2</th>\n",
              "      <td>5.0</td>\n",
              "      <td>Bird Seed</td>\n",
              "      <td>Vinod</td>\n",
              "    </tr>\n",
              "  </tbody>\n",
              "</table>\n",
              "</div>"
            ],
            "text/plain": [
              "         Cost Item Purchased   Name\n",
              "Store 1  22.5       Dog Food  Chris\n",
              "Store 1   2.5   Kitty Litter  Kevyn\n",
              "Store 2   5.0      Bird Seed  Vinod"
            ]
          },
          "execution_count": 2,
          "metadata": {},
          "output_type": "execute_result"
        }
      ],
      "source": [
        "df"
      ]
    },
    {
      "cell_type": "code",
      "execution_count": null,
      "metadata": {
        "id": "kK2Qny8i4azz"
      },
      "outputs": [],
      "source": [
        "df2=df.to_csv('store.csv') #write dataframe in to csv file"
      ]
    },
    {
      "cell_type": "code",
      "execution_count": null,
      "metadata": {
        "id": "P91s8F7Y4azz",
        "outputId": "b90aff73-3c41-4138-b466-acacad458591"
      },
      "outputs": [
        {
          "data": {
            "text/plain": [
              "Cost                      5\n",
              "Item Purchased    Bird Seed\n",
              "Name                  Vinod\n",
              "Name: Store 2, dtype: object"
            ]
          },
          "execution_count": 11,
          "metadata": {},
          "output_type": "execute_result"
        }
      ],
      "source": [
        "df.loc[\"Store 2\"]"
      ]
    },
    {
      "cell_type": "code",
      "execution_count": null,
      "metadata": {
        "id": "cFQGONNK4azz",
        "outputId": "f6040d8a-bb1a-4ad3-f203-c76046435be2"
      },
      "outputs": [
        {
          "data": {
            "text/plain": [
              "pandas.core.series.Series"
            ]
          },
          "execution_count": 3,
          "metadata": {},
          "output_type": "execute_result"
        }
      ],
      "source": [
        "type(df.loc[\"Store 2\"])"
      ]
    },
    {
      "cell_type": "code",
      "execution_count": null,
      "metadata": {
        "id": "u4TU09L04az0",
        "outputId": "d5cad9cb-39aa-4728-a16b-6b78a10d0048"
      },
      "outputs": [
        {
          "data": {
            "text/plain": [
              "Store 1    Chris\n",
              "Store 1    Kevyn\n",
              "Store 2    Vinod\n",
              "Name: Name, dtype: object"
            ]
          },
          "execution_count": 15,
          "metadata": {},
          "output_type": "execute_result"
        }
      ],
      "source": [
        "df[\"Name\"]"
      ]
    },
    {
      "cell_type": "code",
      "execution_count": null,
      "metadata": {
        "id": "i89YeaJt4az0",
        "outputId": "8a6376d3-80d8-4248-ee3a-1013615285a7"
      },
      "outputs": [
        {
          "data": {
            "text/plain": [
              "pandas.core.series.Series"
            ]
          },
          "execution_count": 4,
          "metadata": {},
          "output_type": "execute_result"
        }
      ],
      "source": [
        "type(df[\"Name\"])"
      ]
    },
    {
      "cell_type": "code",
      "execution_count": null,
      "metadata": {
        "id": "XW7zhLtH4az0",
        "outputId": "8003417a-e5f2-4b36-a6be-8fbdb5c5eddd"
      },
      "outputs": [
        {
          "data": {
            "text/html": [
              "<div>\n",
              "<style scoped>\n",
              "    .dataframe tbody tr th:only-of-type {\n",
              "        vertical-align: middle;\n",
              "    }\n",
              "\n",
              "    .dataframe tbody tr th {\n",
              "        vertical-align: top;\n",
              "    }\n",
              "\n",
              "    .dataframe thead th {\n",
              "        text-align: right;\n",
              "    }\n",
              "</style>\n",
              "<table border=\"1\" class=\"dataframe\">\n",
              "  <thead>\n",
              "    <tr style=\"text-align: right;\">\n",
              "      <th></th>\n",
              "      <th>Cost</th>\n",
              "      <th>Item Purchased</th>\n",
              "      <th>Name</th>\n",
              "    </tr>\n",
              "  </thead>\n",
              "  <tbody>\n",
              "    <tr>\n",
              "      <th>Store 1</th>\n",
              "      <td>22.5</td>\n",
              "      <td>Dog Food</td>\n",
              "      <td>Chris</td>\n",
              "    </tr>\n",
              "    <tr>\n",
              "      <th>Store 1</th>\n",
              "      <td>2.5</td>\n",
              "      <td>Kitty Litter</td>\n",
              "      <td>Kevyn</td>\n",
              "    </tr>\n",
              "  </tbody>\n",
              "</table>\n",
              "</div>"
            ],
            "text/plain": [
              "         Cost Item Purchased   Name\n",
              "Store 1  22.5       Dog Food  Chris\n",
              "Store 1   2.5   Kitty Litter  Kevyn"
            ]
          },
          "execution_count": 17,
          "metadata": {},
          "output_type": "execute_result"
        }
      ],
      "source": [
        "df.loc[\"Store 1\"]"
      ]
    },
    {
      "cell_type": "code",
      "execution_count": null,
      "metadata": {
        "id": "JKn05HQr4az1",
        "outputId": "22c144cc-8e65-4a26-a45c-be81bb53cbe3"
      },
      "outputs": [
        {
          "data": {
            "text/plain": [
              "pandas.core.frame.DataFrame"
            ]
          },
          "execution_count": 10,
          "metadata": {},
          "output_type": "execute_result"
        }
      ],
      "source": [
        "type(df.loc['Store 1'])"
      ]
    },
    {
      "cell_type": "code",
      "execution_count": null,
      "metadata": {
        "id": "BNti_RIj4az1",
        "outputId": "cbdc5c07-2a34-4823-dd11-adf208de361c"
      },
      "outputs": [
        {
          "data": {
            "text/plain": [
              "Store 1    22.5\n",
              "Store 1     2.5\n",
              "Name: Cost, dtype: float64"
            ]
          },
          "execution_count": 21,
          "metadata": {},
          "output_type": "execute_result"
        }
      ],
      "source": [
        "df.loc[\"Store 1\",\"Cost\"]"
      ]
    },
    {
      "cell_type": "code",
      "execution_count": null,
      "metadata": {
        "id": "_DICPIXm4az2",
        "outputId": "940a44c2-7a38-419e-c0fe-1d87eb22d5dd"
      },
      "outputs": [
        {
          "data": {
            "text/html": [
              "<div>\n",
              "<style scoped>\n",
              "    .dataframe tbody tr th:only-of-type {\n",
              "        vertical-align: middle;\n",
              "    }\n",
              "\n",
              "    .dataframe tbody tr th {\n",
              "        vertical-align: top;\n",
              "    }\n",
              "\n",
              "    .dataframe thead th {\n",
              "        text-align: right;\n",
              "    }\n",
              "</style>\n",
              "<table border=\"1\" class=\"dataframe\">\n",
              "  <thead>\n",
              "    <tr style=\"text-align: right;\">\n",
              "      <th></th>\n",
              "      <th>Store 1</th>\n",
              "      <th>Store 1</th>\n",
              "      <th>Store 2</th>\n",
              "    </tr>\n",
              "  </thead>\n",
              "  <tbody>\n",
              "    <tr>\n",
              "      <th>Cost</th>\n",
              "      <td>22.5</td>\n",
              "      <td>2.5</td>\n",
              "      <td>5</td>\n",
              "    </tr>\n",
              "    <tr>\n",
              "      <th>Item Purchased</th>\n",
              "      <td>Dog Food</td>\n",
              "      <td>Kitty Litter</td>\n",
              "      <td>Bird Seed</td>\n",
              "    </tr>\n",
              "    <tr>\n",
              "      <th>Name</th>\n",
              "      <td>Chris</td>\n",
              "      <td>Kevyn</td>\n",
              "      <td>Vinod</td>\n",
              "    </tr>\n",
              "  </tbody>\n",
              "</table>\n",
              "</div>"
            ],
            "text/plain": [
              "                 Store 1       Store 1    Store 2\n",
              "Cost                22.5           2.5          5\n",
              "Item Purchased  Dog Food  Kitty Litter  Bird Seed\n",
              "Name               Chris         Kevyn      Vinod"
            ]
          },
          "execution_count": 22,
          "metadata": {},
          "output_type": "execute_result"
        }
      ],
      "source": [
        "df.T"
      ]
    },
    {
      "cell_type": "code",
      "execution_count": null,
      "metadata": {
        "id": "JgO3N_KM4az2",
        "outputId": "7da91b86-2798-4720-9258-3f3833c5df36"
      },
      "outputs": [
        {
          "data": {
            "text/plain": [
              "Store 1    22.5\n",
              "Store 1     2.5\n",
              "Store 2       5\n",
              "Name: Cost, dtype: object"
            ]
          },
          "execution_count": 24,
          "metadata": {},
          "output_type": "execute_result"
        }
      ],
      "source": [
        "df.T.loc[\"Cost\"]"
      ]
    },
    {
      "cell_type": "code",
      "execution_count": null,
      "metadata": {
        "id": "fflgd9fs4az2",
        "outputId": "bb314e28-04df-4c9a-817c-21ea06b1caea"
      },
      "outputs": [
        {
          "data": {
            "text/html": [
              "<div>\n",
              "<style scoped>\n",
              "    .dataframe tbody tr th:only-of-type {\n",
              "        vertical-align: middle;\n",
              "    }\n",
              "\n",
              "    .dataframe tbody tr th {\n",
              "        vertical-align: top;\n",
              "    }\n",
              "\n",
              "    .dataframe thead th {\n",
              "        text-align: right;\n",
              "    }\n",
              "</style>\n",
              "<table border=\"1\" class=\"dataframe\">\n",
              "  <thead>\n",
              "    <tr style=\"text-align: right;\">\n",
              "      <th></th>\n",
              "      <th>Name</th>\n",
              "      <th>Cost</th>\n",
              "    </tr>\n",
              "  </thead>\n",
              "  <tbody>\n",
              "    <tr>\n",
              "      <th>Store 1</th>\n",
              "      <td>Chris</td>\n",
              "      <td>22.5</td>\n",
              "    </tr>\n",
              "    <tr>\n",
              "      <th>Store 1</th>\n",
              "      <td>Kevyn</td>\n",
              "      <td>2.5</td>\n",
              "    </tr>\n",
              "    <tr>\n",
              "      <th>Store 2</th>\n",
              "      <td>Vinod</td>\n",
              "      <td>5.0</td>\n",
              "    </tr>\n",
              "  </tbody>\n",
              "</table>\n",
              "</div>"
            ],
            "text/plain": [
              "          Name  Cost\n",
              "Store 1  Chris  22.5\n",
              "Store 1  Kevyn   2.5\n",
              "Store 2  Vinod   5.0"
            ]
          },
          "execution_count": 25,
          "metadata": {},
          "output_type": "execute_result"
        }
      ],
      "source": [
        "df.loc[:,[\"Name\",\"Cost\"]]"
      ]
    },
    {
      "cell_type": "code",
      "execution_count": null,
      "metadata": {
        "id": "zUiSGrkN4az3",
        "outputId": "a72e71f5-462e-4724-e845-8d0e3302ecfd"
      },
      "outputs": [
        {
          "data": {
            "text/html": [
              "<div>\n",
              "<style scoped>\n",
              "    .dataframe tbody tr th:only-of-type {\n",
              "        vertical-align: middle;\n",
              "    }\n",
              "\n",
              "    .dataframe tbody tr th {\n",
              "        vertical-align: top;\n",
              "    }\n",
              "\n",
              "    .dataframe thead th {\n",
              "        text-align: right;\n",
              "    }\n",
              "</style>\n",
              "<table border=\"1\" class=\"dataframe\">\n",
              "  <thead>\n",
              "    <tr style=\"text-align: right;\">\n",
              "      <th></th>\n",
              "      <th>Cost</th>\n",
              "      <th>Item Purchased</th>\n",
              "      <th>Name</th>\n",
              "    </tr>\n",
              "  </thead>\n",
              "  <tbody>\n",
              "    <tr>\n",
              "      <th>Store 2</th>\n",
              "      <td>5.0</td>\n",
              "      <td>Bird Seed</td>\n",
              "      <td>Vinod</td>\n",
              "    </tr>\n",
              "  </tbody>\n",
              "</table>\n",
              "</div>"
            ],
            "text/plain": [
              "         Cost Item Purchased   Name\n",
              "Store 2   5.0      Bird Seed  Vinod"
            ]
          },
          "execution_count": 28,
          "metadata": {},
          "output_type": "execute_result"
        }
      ],
      "source": [
        "df.drop(\"Store 1\")"
      ]
    },
    {
      "cell_type": "code",
      "execution_count": null,
      "metadata": {
        "id": "t3f4qOsR4az3",
        "outputId": "dab80d47-c800-4ce8-f668-d13962f9304c"
      },
      "outputs": [
        {
          "data": {
            "text/html": [
              "<div>\n",
              "<style scoped>\n",
              "    .dataframe tbody tr th:only-of-type {\n",
              "        vertical-align: middle;\n",
              "    }\n",
              "\n",
              "    .dataframe tbody tr th {\n",
              "        vertical-align: top;\n",
              "    }\n",
              "\n",
              "    .dataframe thead th {\n",
              "        text-align: right;\n",
              "    }\n",
              "</style>\n",
              "<table border=\"1\" class=\"dataframe\">\n",
              "  <thead>\n",
              "    <tr style=\"text-align: right;\">\n",
              "      <th></th>\n",
              "      <th>Cost</th>\n",
              "      <th>Item Purchased</th>\n",
              "      <th>Name</th>\n",
              "    </tr>\n",
              "  </thead>\n",
              "  <tbody>\n",
              "    <tr>\n",
              "      <th>Store 1</th>\n",
              "      <td>22.5</td>\n",
              "      <td>Dog Food</td>\n",
              "      <td>Chris</td>\n",
              "    </tr>\n",
              "    <tr>\n",
              "      <th>Store 1</th>\n",
              "      <td>2.5</td>\n",
              "      <td>Kitty Litter</td>\n",
              "      <td>Kevyn</td>\n",
              "    </tr>\n",
              "    <tr>\n",
              "      <th>Store 2</th>\n",
              "      <td>5.0</td>\n",
              "      <td>Bird Seed</td>\n",
              "      <td>Vinod</td>\n",
              "    </tr>\n",
              "  </tbody>\n",
              "</table>\n",
              "</div>"
            ],
            "text/plain": [
              "         Cost Item Purchased   Name\n",
              "Store 1  22.5       Dog Food  Chris\n",
              "Store 1   2.5   Kitty Litter  Kevyn\n",
              "Store 2   5.0      Bird Seed  Vinod"
            ]
          },
          "execution_count": 29,
          "metadata": {},
          "output_type": "execute_result"
        }
      ],
      "source": [
        "df"
      ]
    },
    {
      "cell_type": "code",
      "execution_count": null,
      "metadata": {
        "id": "q_DiJgXy4az3"
      },
      "outputs": [],
      "source": [
        "df1=df.copy()"
      ]
    },
    {
      "cell_type": "code",
      "execution_count": null,
      "metadata": {
        "id": "j0PpTX6M4az3",
        "outputId": "4e282ddf-078b-42b2-d1cd-c9827b47512e"
      },
      "outputs": [
        {
          "data": {
            "text/html": [
              "<div>\n",
              "<style scoped>\n",
              "    .dataframe tbody tr th:only-of-type {\n",
              "        vertical-align: middle;\n",
              "    }\n",
              "\n",
              "    .dataframe tbody tr th {\n",
              "        vertical-align: top;\n",
              "    }\n",
              "\n",
              "    .dataframe thead th {\n",
              "        text-align: right;\n",
              "    }\n",
              "</style>\n",
              "<table border=\"1\" class=\"dataframe\">\n",
              "  <thead>\n",
              "    <tr style=\"text-align: right;\">\n",
              "      <th></th>\n",
              "      <th>Cost</th>\n",
              "      <th>Item Purchased</th>\n",
              "      <th>Name</th>\n",
              "    </tr>\n",
              "  </thead>\n",
              "  <tbody>\n",
              "    <tr>\n",
              "      <th>Store 1</th>\n",
              "      <td>22.5</td>\n",
              "      <td>Dog Food</td>\n",
              "      <td>Chris</td>\n",
              "    </tr>\n",
              "    <tr>\n",
              "      <th>Store 1</th>\n",
              "      <td>2.5</td>\n",
              "      <td>Kitty Litter</td>\n",
              "      <td>Kevyn</td>\n",
              "    </tr>\n",
              "    <tr>\n",
              "      <th>Store 2</th>\n",
              "      <td>5.0</td>\n",
              "      <td>Bird Seed</td>\n",
              "      <td>Vinod</td>\n",
              "    </tr>\n",
              "  </tbody>\n",
              "</table>\n",
              "</div>"
            ],
            "text/plain": [
              "         Cost Item Purchased   Name\n",
              "Store 1  22.5       Dog Food  Chris\n",
              "Store 1   2.5   Kitty Litter  Kevyn\n",
              "Store 2   5.0      Bird Seed  Vinod"
            ]
          },
          "execution_count": 17,
          "metadata": {},
          "output_type": "execute_result"
        }
      ],
      "source": [
        "df1"
      ]
    },
    {
      "cell_type": "code",
      "execution_count": null,
      "metadata": {
        "id": "chQX3vNk4az4"
      },
      "outputs": [],
      "source": [
        "df1=df.drop(\"Store 1\")"
      ]
    },
    {
      "cell_type": "code",
      "execution_count": null,
      "metadata": {
        "id": "xDCLjQpC4az4",
        "outputId": "3f21c22a-f474-4d77-c7b4-a9653608109b"
      },
      "outputs": [
        {
          "data": {
            "text/html": [
              "<div>\n",
              "<style scoped>\n",
              "    .dataframe tbody tr th:only-of-type {\n",
              "        vertical-align: middle;\n",
              "    }\n",
              "\n",
              "    .dataframe tbody tr th {\n",
              "        vertical-align: top;\n",
              "    }\n",
              "\n",
              "    .dataframe thead th {\n",
              "        text-align: right;\n",
              "    }\n",
              "</style>\n",
              "<table border=\"1\" class=\"dataframe\">\n",
              "  <thead>\n",
              "    <tr style=\"text-align: right;\">\n",
              "      <th></th>\n",
              "      <th>Cost</th>\n",
              "      <th>Item Purchased</th>\n",
              "      <th>Name</th>\n",
              "    </tr>\n",
              "  </thead>\n",
              "  <tbody>\n",
              "    <tr>\n",
              "      <th>Store 2</th>\n",
              "      <td>5.0</td>\n",
              "      <td>Bird Seed</td>\n",
              "      <td>Vinod</td>\n",
              "    </tr>\n",
              "  </tbody>\n",
              "</table>\n",
              "</div>"
            ],
            "text/plain": [
              "         Cost Item Purchased   Name\n",
              "Store 2   5.0      Bird Seed  Vinod"
            ]
          },
          "execution_count": 26,
          "metadata": {},
          "output_type": "execute_result"
        }
      ],
      "source": [
        "df1"
      ]
    },
    {
      "cell_type": "code",
      "execution_count": null,
      "metadata": {
        "id": "WoU_feu54az4"
      },
      "outputs": [],
      "source": [
        "del df1[\"Name\"]"
      ]
    },
    {
      "cell_type": "code",
      "execution_count": null,
      "metadata": {
        "id": "lpg4I85y4az5",
        "outputId": "2349b611-f89d-498a-9a8d-b27d6bfaf8e2"
      },
      "outputs": [
        {
          "data": {
            "text/html": [
              "<div>\n",
              "<style scoped>\n",
              "    .dataframe tbody tr th:only-of-type {\n",
              "        vertical-align: middle;\n",
              "    }\n",
              "\n",
              "    .dataframe tbody tr th {\n",
              "        vertical-align: top;\n",
              "    }\n",
              "\n",
              "    .dataframe thead th {\n",
              "        text-align: right;\n",
              "    }\n",
              "</style>\n",
              "<table border=\"1\" class=\"dataframe\">\n",
              "  <thead>\n",
              "    <tr style=\"text-align: right;\">\n",
              "      <th></th>\n",
              "      <th>Cost</th>\n",
              "      <th>Item Purchased</th>\n",
              "    </tr>\n",
              "  </thead>\n",
              "  <tbody>\n",
              "    <tr>\n",
              "      <th>Store 2</th>\n",
              "      <td>5.0</td>\n",
              "      <td>Bird Seed</td>\n",
              "    </tr>\n",
              "  </tbody>\n",
              "</table>\n",
              "</div>"
            ],
            "text/plain": [
              "         Cost Item Purchased\n",
              "Store 2   5.0      Bird Seed"
            ]
          },
          "execution_count": 36,
          "metadata": {},
          "output_type": "execute_result"
        }
      ],
      "source": [
        "df1"
      ]
    },
    {
      "cell_type": "code",
      "execution_count": null,
      "metadata": {
        "id": "FqXk29964az5"
      },
      "outputs": [],
      "source": [
        "df['location']=None"
      ]
    },
    {
      "cell_type": "code",
      "execution_count": null,
      "metadata": {
        "id": "49YG7Crz4az5",
        "outputId": "084bbc8e-cbff-4d57-92d9-98fbf03b40a0"
      },
      "outputs": [
        {
          "data": {
            "text/html": [
              "<div>\n",
              "<style scoped>\n",
              "    .dataframe tbody tr th:only-of-type {\n",
              "        vertical-align: middle;\n",
              "    }\n",
              "\n",
              "    .dataframe tbody tr th {\n",
              "        vertical-align: top;\n",
              "    }\n",
              "\n",
              "    .dataframe thead th {\n",
              "        text-align: right;\n",
              "    }\n",
              "</style>\n",
              "<table border=\"1\" class=\"dataframe\">\n",
              "  <thead>\n",
              "    <tr style=\"text-align: right;\">\n",
              "      <th></th>\n",
              "      <th>Cost</th>\n",
              "      <th>Item Purchased</th>\n",
              "      <th>Name</th>\n",
              "      <th>location</th>\n",
              "    </tr>\n",
              "  </thead>\n",
              "  <tbody>\n",
              "    <tr>\n",
              "      <th>Store 1</th>\n",
              "      <td>22.5</td>\n",
              "      <td>Dog Food</td>\n",
              "      <td>Chris</td>\n",
              "      <td>None</td>\n",
              "    </tr>\n",
              "    <tr>\n",
              "      <th>Store 1</th>\n",
              "      <td>2.5</td>\n",
              "      <td>Kitty Litter</td>\n",
              "      <td>Kevyn</td>\n",
              "      <td>None</td>\n",
              "    </tr>\n",
              "    <tr>\n",
              "      <th>Store 2</th>\n",
              "      <td>5.0</td>\n",
              "      <td>Bird Seed</td>\n",
              "      <td>Vinod</td>\n",
              "      <td>None</td>\n",
              "    </tr>\n",
              "  </tbody>\n",
              "</table>\n",
              "</div>"
            ],
            "text/plain": [
              "         Cost Item Purchased   Name location\n",
              "Store 1  22.5       Dog Food  Chris     None\n",
              "Store 1   2.5   Kitty Litter  Kevyn     None\n",
              "Store 2   5.0      Bird Seed  Vinod     None"
            ]
          },
          "execution_count": 40,
          "metadata": {},
          "output_type": "execute_result"
        }
      ],
      "source": [
        "df"
      ]
    },
    {
      "cell_type": "code",
      "execution_count": null,
      "metadata": {
        "id": "7tRfOLzN4az5"
      },
      "outputs": [],
      "source": [
        "Costs=df[\"Cost\"]"
      ]
    },
    {
      "cell_type": "code",
      "execution_count": null,
      "metadata": {
        "id": "Wc8ixRt74az5"
      },
      "outputs": [],
      "source": [
        "Costs+=2"
      ]
    },
    {
      "cell_type": "code",
      "execution_count": null,
      "metadata": {
        "id": "6wjvYP2C4az6",
        "outputId": "631b07d0-cb30-491a-e0ad-f1f907f83ede"
      },
      "outputs": [
        {
          "data": {
            "text/html": [
              "<div>\n",
              "<style scoped>\n",
              "    .dataframe tbody tr th:only-of-type {\n",
              "        vertical-align: middle;\n",
              "    }\n",
              "\n",
              "    .dataframe tbody tr th {\n",
              "        vertical-align: top;\n",
              "    }\n",
              "\n",
              "    .dataframe thead th {\n",
              "        text-align: right;\n",
              "    }\n",
              "</style>\n",
              "<table border=\"1\" class=\"dataframe\">\n",
              "  <thead>\n",
              "    <tr style=\"text-align: right;\">\n",
              "      <th></th>\n",
              "      <th>Cost</th>\n",
              "      <th>Item Purchased</th>\n",
              "      <th>Name</th>\n",
              "      <th>location</th>\n",
              "    </tr>\n",
              "  </thead>\n",
              "  <tbody>\n",
              "    <tr>\n",
              "      <th>Store 1</th>\n",
              "      <td>24.5</td>\n",
              "      <td>Dog Food</td>\n",
              "      <td>Chris</td>\n",
              "      <td>None</td>\n",
              "    </tr>\n",
              "    <tr>\n",
              "      <th>Store 1</th>\n",
              "      <td>4.5</td>\n",
              "      <td>Kitty Litter</td>\n",
              "      <td>Kevyn</td>\n",
              "      <td>None</td>\n",
              "    </tr>\n",
              "    <tr>\n",
              "      <th>Store 2</th>\n",
              "      <td>7.0</td>\n",
              "      <td>Bird Seed</td>\n",
              "      <td>Vinod</td>\n",
              "      <td>None</td>\n",
              "    </tr>\n",
              "  </tbody>\n",
              "</table>\n",
              "</div>"
            ],
            "text/plain": [
              "         Cost Item Purchased   Name location\n",
              "Store 1  24.5       Dog Food  Chris     None\n",
              "Store 1   4.5   Kitty Litter  Kevyn     None\n",
              "Store 2   7.0      Bird Seed  Vinod     None"
            ]
          },
          "execution_count": 43,
          "metadata": {},
          "output_type": "execute_result"
        }
      ],
      "source": [
        "df"
      ]
    },
    {
      "cell_type": "code",
      "execution_count": null,
      "metadata": {
        "id": "YxUB4Mgf4az6",
        "outputId": "e46bad85-9e10-4d37-8e7d-af6551899983"
      },
      "outputs": [
        {
          "data": {
            "text/html": [
              "<div>\n",
              "<style scoped>\n",
              "    .dataframe tbody tr th:only-of-type {\n",
              "        vertical-align: middle;\n",
              "    }\n",
              "\n",
              "    .dataframe tbody tr th {\n",
              "        vertical-align: top;\n",
              "    }\n",
              "\n",
              "    .dataframe thead th {\n",
              "        text-align: right;\n",
              "    }\n",
              "</style>\n",
              "<table border=\"1\" class=\"dataframe\">\n",
              "  <thead>\n",
              "    <tr style=\"text-align: right;\">\n",
              "      <th></th>\n",
              "      <th>Cost</th>\n",
              "      <th>Item Purchased</th>\n",
              "    </tr>\n",
              "  </thead>\n",
              "  <tbody>\n",
              "    <tr>\n",
              "      <th>Store 1</th>\n",
              "      <td>22.5</td>\n",
              "      <td>Dog Food</td>\n",
              "    </tr>\n",
              "    <tr>\n",
              "      <th>Store 1</th>\n",
              "      <td>2.5</td>\n",
              "      <td>Kitty Litter</td>\n",
              "    </tr>\n",
              "  </tbody>\n",
              "</table>\n",
              "</div>"
            ],
            "text/plain": [
              "         Cost Item Purchased\n",
              "Store 1  22.5       Dog Food\n",
              "Store 1   2.5   Kitty Litter"
            ]
          },
          "execution_count": 12,
          "metadata": {},
          "output_type": "execute_result"
        }
      ],
      "source": [
        "df.iloc[0:2,0:2]"
      ]
    },
    {
      "cell_type": "code",
      "execution_count": null,
      "metadata": {
        "id": "b2tP0fYN4az6"
      },
      "outputs": [],
      "source": [
        "import pandas as pd\n",
        "purchase_1 = pd.Series({'Name': 'Chris',\n",
        "                        'Item Purchased': 'Dog Food',\n",
        "                        'Cost': 22.50})\n",
        "purchase_2 = pd.Series({'Name': 'Kevyn',\n",
        "                        'Item Purchased': 'Kitty Litter',\n",
        "                        'Cost': 2.50})\n",
        "purchase_3 = pd.Series({'Name': 'Vinod',\n",
        "                        'Item Purchased': 'Bird Seed',\n",
        "                        'Cost': 5.00})\n",
        "\n",
        "\n",
        "df2 = pd.DataFrame([purchase_1, purchase_2, purchase_3], index=['Store 1', 'Store 2', 'Store 3'])"
      ]
    },
    {
      "cell_type": "code",
      "execution_count": null,
      "metadata": {
        "id": "r2zHLeAZ4az6",
        "outputId": "118e6702-214e-4a1a-e943-24bc1ca69b79"
      },
      "outputs": [
        {
          "data": {
            "text/html": [
              "<div>\n",
              "<style scoped>\n",
              "    .dataframe tbody tr th:only-of-type {\n",
              "        vertical-align: middle;\n",
              "    }\n",
              "\n",
              "    .dataframe tbody tr th {\n",
              "        vertical-align: top;\n",
              "    }\n",
              "\n",
              "    .dataframe thead th {\n",
              "        text-align: right;\n",
              "    }\n",
              "</style>\n",
              "<table border=\"1\" class=\"dataframe\">\n",
              "  <thead>\n",
              "    <tr style=\"text-align: right;\">\n",
              "      <th></th>\n",
              "      <th>Cost</th>\n",
              "      <th>Item Purchased</th>\n",
              "      <th>Name</th>\n",
              "    </tr>\n",
              "  </thead>\n",
              "  <tbody>\n",
              "    <tr>\n",
              "      <th>Store 1</th>\n",
              "      <td>22.5</td>\n",
              "      <td>Dog Food</td>\n",
              "      <td>Chris</td>\n",
              "    </tr>\n",
              "    <tr>\n",
              "      <th>Store 2</th>\n",
              "      <td>2.5</td>\n",
              "      <td>Kitty Litter</td>\n",
              "      <td>Kevyn</td>\n",
              "    </tr>\n",
              "    <tr>\n",
              "      <th>Store 3</th>\n",
              "      <td>5.0</td>\n",
              "      <td>Bird Seed</td>\n",
              "      <td>Vinod</td>\n",
              "    </tr>\n",
              "  </tbody>\n",
              "</table>\n",
              "</div>"
            ],
            "text/plain": [
              "         Cost Item Purchased   Name\n",
              "Store 1  22.5       Dog Food  Chris\n",
              "Store 2   2.5   Kitty Litter  Kevyn\n",
              "Store 3   5.0      Bird Seed  Vinod"
            ]
          },
          "execution_count": 21,
          "metadata": {},
          "output_type": "execute_result"
        }
      ],
      "source": [
        "df2"
      ]
    },
    {
      "cell_type": "code",
      "execution_count": null,
      "metadata": {
        "id": "YG3mJZAm4az7"
      },
      "outputs": [],
      "source": [
        "df2['location']=None"
      ]
    },
    {
      "cell_type": "code",
      "execution_count": null,
      "metadata": {
        "id": "9Qam5Zi84az7",
        "outputId": "95675c1d-4f42-479b-c174-27c3f311e1ed"
      },
      "outputs": [
        {
          "data": {
            "text/html": [
              "<div>\n",
              "<style scoped>\n",
              "    .dataframe tbody tr th:only-of-type {\n",
              "        vertical-align: middle;\n",
              "    }\n",
              "\n",
              "    .dataframe tbody tr th {\n",
              "        vertical-align: top;\n",
              "    }\n",
              "\n",
              "    .dataframe thead th {\n",
              "        text-align: right;\n",
              "    }\n",
              "</style>\n",
              "<table border=\"1\" class=\"dataframe\">\n",
              "  <thead>\n",
              "    <tr style=\"text-align: right;\">\n",
              "      <th></th>\n",
              "      <th>Cost</th>\n",
              "      <th>Item Purchased</th>\n",
              "      <th>Name</th>\n",
              "      <th>location</th>\n",
              "    </tr>\n",
              "  </thead>\n",
              "  <tbody>\n",
              "    <tr>\n",
              "      <th>Store 1</th>\n",
              "      <td>22.5</td>\n",
              "      <td>Dog Food</td>\n",
              "      <td>Chris</td>\n",
              "      <td>None</td>\n",
              "    </tr>\n",
              "    <tr>\n",
              "      <th>Store 2</th>\n",
              "      <td>2.5</td>\n",
              "      <td>Kitty Litter</td>\n",
              "      <td>Kevyn</td>\n",
              "      <td>None</td>\n",
              "    </tr>\n",
              "    <tr>\n",
              "      <th>Store 3</th>\n",
              "      <td>5.0</td>\n",
              "      <td>Bird Seed</td>\n",
              "      <td>Vinod</td>\n",
              "      <td>None</td>\n",
              "    </tr>\n",
              "  </tbody>\n",
              "</table>\n",
              "</div>"
            ],
            "text/plain": [
              "         Cost Item Purchased   Name location\n",
              "Store 1  22.5       Dog Food  Chris     None\n",
              "Store 2   2.5   Kitty Litter  Kevyn     None\n",
              "Store 3   5.0      Bird Seed  Vinod     None"
            ]
          },
          "execution_count": 23,
          "metadata": {},
          "output_type": "execute_result"
        }
      ],
      "source": [
        "df2"
      ]
    },
    {
      "cell_type": "code",
      "execution_count": null,
      "metadata": {
        "id": "kqAchODJ4az7",
        "outputId": "45590b33-525b-4423-f3a5-e6ec3c3a5203"
      },
      "outputs": [
        {
          "data": {
            "text/html": [
              "<div>\n",
              "<style scoped>\n",
              "    .dataframe tbody tr th:only-of-type {\n",
              "        vertical-align: middle;\n",
              "    }\n",
              "\n",
              "    .dataframe tbody tr th {\n",
              "        vertical-align: top;\n",
              "    }\n",
              "\n",
              "    .dataframe thead th {\n",
              "        text-align: right;\n",
              "    }\n",
              "</style>\n",
              "<table border=\"1\" class=\"dataframe\">\n",
              "  <thead>\n",
              "    <tr style=\"text-align: right;\">\n",
              "      <th></th>\n",
              "      <th>Cost</th>\n",
              "      <th>Item Purchased</th>\n",
              "      <th>Name</th>\n",
              "    </tr>\n",
              "  </thead>\n",
              "  <tbody>\n",
              "    <tr>\n",
              "      <th>Store 1</th>\n",
              "      <td>22.5</td>\n",
              "      <td>Dog Food</td>\n",
              "      <td>Chris</td>\n",
              "    </tr>\n",
              "    <tr>\n",
              "      <th>Store 2</th>\n",
              "      <td>2.5</td>\n",
              "      <td>Kitty Litter</td>\n",
              "      <td>Kevyn</td>\n",
              "    </tr>\n",
              "    <tr>\n",
              "      <th>Store 3</th>\n",
              "      <td>5.0</td>\n",
              "      <td>Bird Seed</td>\n",
              "      <td>Vinod</td>\n",
              "    </tr>\n",
              "  </tbody>\n",
              "</table>\n",
              "</div>"
            ],
            "text/plain": [
              "         Cost Item Purchased   Name\n",
              "Store 1  22.5       Dog Food  Chris\n",
              "Store 2   2.5   Kitty Litter  Kevyn\n",
              "Store 3   5.0      Bird Seed  Vinod"
            ]
          },
          "execution_count": 25,
          "metadata": {},
          "output_type": "execute_result"
        }
      ],
      "source": [
        "df2.loc[\"Store 1\":\"Store 3\",\"Cost\":\"Name\"]"
      ]
    },
    {
      "cell_type": "code",
      "execution_count": null,
      "metadata": {
        "id": "ebC77rCw4az8",
        "outputId": "6c399a0a-eef6-46fc-8f7f-4f4af6f544f3"
      },
      "outputs": [
        {
          "data": {
            "text/plain": [
              "Cost                  22.5\n",
              "Item Purchased    Dog Food\n",
              "Name                 Chris\n",
              "dtype: object"
            ]
          },
          "execution_count": 3,
          "metadata": {},
          "output_type": "execute_result"
        }
      ],
      "source": [
        "purchase_1 = pd.Series({'Name': 'Chris',\n",
        "                        'Item Purchased': 'Dog Food',\n",
        "                        'Cost': 22.50})\n",
        "purchase_1"
      ]
    }
  ],
  "metadata": {
    "kernelspec": {
      "display_name": "Python 3",
      "language": "python",
      "name": "python3"
    },
    "language_info": {
      "codemirror_mode": {
        "name": "ipython",
        "version": 3
      },
      "file_extension": ".py",
      "mimetype": "text/x-python",
      "name": "python",
      "nbconvert_exporter": "python",
      "pygments_lexer": "ipython3",
      "version": "3.6.4"
    },
    "colab": {
      "provenance": []
    }
  },
  "nbformat": 4,
  "nbformat_minor": 0
}